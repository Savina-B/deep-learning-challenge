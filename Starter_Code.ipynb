{
  "cells": [
    {
      "cell_type": "markdown",
      "metadata": {
        "id": "5KiijNlmyPBO"
      },
      "source": [
        "## Preprocessing"
      ]
    },
    {
      "cell_type": "code",
      "execution_count": 2,
      "metadata": {
        "colab": {
          "base_uri": "https://localhost:8080/",
          "height": 293
        },
        "id": "anQMWIr7yPBY",
        "outputId": "888be9c2-6bef-45ad-aa65-fb8bbfa51ee7"
      },
      "outputs": [
        {
          "output_type": "execute_result",
          "data": {
            "text/plain": [
              "        EIN                                      NAME APPLICATION_TYPE  \\\n",
              "0  10520599              BLUE KNIGHTS MOTORCYCLE CLUB              T10   \n",
              "1  10531628    AMERICAN CHESAPEAKE CLUB CHARITABLE TR               T3   \n",
              "2  10547893        ST CLOUD PROFESSIONAL FIREFIGHTERS               T5   \n",
              "3  10553066            SOUTHSIDE ATHLETIC ASSOCIATION               T3   \n",
              "4  10556103  GENETIC RESEARCH INSTITUTE OF THE DESERT               T3   \n",
              "\n",
              "        AFFILIATION CLASSIFICATION      USE_CASE  ORGANIZATION  STATUS  \\\n",
              "0       Independent          C1000    ProductDev   Association       1   \n",
              "1       Independent          C2000  Preservation  Co-operative       1   \n",
              "2  CompanySponsored          C3000    ProductDev   Association       1   \n",
              "3  CompanySponsored          C2000  Preservation         Trust       1   \n",
              "4       Independent          C1000     Heathcare         Trust       1   \n",
              "\n",
              "      INCOME_AMT SPECIAL_CONSIDERATIONS  ASK_AMT  IS_SUCCESSFUL  \n",
              "0              0                      N     5000              1  \n",
              "1         1-9999                      N   108590              1  \n",
              "2              0                      N     5000              0  \n",
              "3    10000-24999                      N     6692              1  \n",
              "4  100000-499999                      N   142590              1  "
            ],
            "text/html": [
              "\n",
              "  <div id=\"df-ba23c498-bc11-4bec-aed9-2c209799cd33\" class=\"colab-df-container\">\n",
              "    <div>\n",
              "<style scoped>\n",
              "    .dataframe tbody tr th:only-of-type {\n",
              "        vertical-align: middle;\n",
              "    }\n",
              "\n",
              "    .dataframe tbody tr th {\n",
              "        vertical-align: top;\n",
              "    }\n",
              "\n",
              "    .dataframe thead th {\n",
              "        text-align: right;\n",
              "    }\n",
              "</style>\n",
              "<table border=\"1\" class=\"dataframe\">\n",
              "  <thead>\n",
              "    <tr style=\"text-align: right;\">\n",
              "      <th></th>\n",
              "      <th>EIN</th>\n",
              "      <th>NAME</th>\n",
              "      <th>APPLICATION_TYPE</th>\n",
              "      <th>AFFILIATION</th>\n",
              "      <th>CLASSIFICATION</th>\n",
              "      <th>USE_CASE</th>\n",
              "      <th>ORGANIZATION</th>\n",
              "      <th>STATUS</th>\n",
              "      <th>INCOME_AMT</th>\n",
              "      <th>SPECIAL_CONSIDERATIONS</th>\n",
              "      <th>ASK_AMT</th>\n",
              "      <th>IS_SUCCESSFUL</th>\n",
              "    </tr>\n",
              "  </thead>\n",
              "  <tbody>\n",
              "    <tr>\n",
              "      <th>0</th>\n",
              "      <td>10520599</td>\n",
              "      <td>BLUE KNIGHTS MOTORCYCLE CLUB</td>\n",
              "      <td>T10</td>\n",
              "      <td>Independent</td>\n",
              "      <td>C1000</td>\n",
              "      <td>ProductDev</td>\n",
              "      <td>Association</td>\n",
              "      <td>1</td>\n",
              "      <td>0</td>\n",
              "      <td>N</td>\n",
              "      <td>5000</td>\n",
              "      <td>1</td>\n",
              "    </tr>\n",
              "    <tr>\n",
              "      <th>1</th>\n",
              "      <td>10531628</td>\n",
              "      <td>AMERICAN CHESAPEAKE CLUB CHARITABLE TR</td>\n",
              "      <td>T3</td>\n",
              "      <td>Independent</td>\n",
              "      <td>C2000</td>\n",
              "      <td>Preservation</td>\n",
              "      <td>Co-operative</td>\n",
              "      <td>1</td>\n",
              "      <td>1-9999</td>\n",
              "      <td>N</td>\n",
              "      <td>108590</td>\n",
              "      <td>1</td>\n",
              "    </tr>\n",
              "    <tr>\n",
              "      <th>2</th>\n",
              "      <td>10547893</td>\n",
              "      <td>ST CLOUD PROFESSIONAL FIREFIGHTERS</td>\n",
              "      <td>T5</td>\n",
              "      <td>CompanySponsored</td>\n",
              "      <td>C3000</td>\n",
              "      <td>ProductDev</td>\n",
              "      <td>Association</td>\n",
              "      <td>1</td>\n",
              "      <td>0</td>\n",
              "      <td>N</td>\n",
              "      <td>5000</td>\n",
              "      <td>0</td>\n",
              "    </tr>\n",
              "    <tr>\n",
              "      <th>3</th>\n",
              "      <td>10553066</td>\n",
              "      <td>SOUTHSIDE ATHLETIC ASSOCIATION</td>\n",
              "      <td>T3</td>\n",
              "      <td>CompanySponsored</td>\n",
              "      <td>C2000</td>\n",
              "      <td>Preservation</td>\n",
              "      <td>Trust</td>\n",
              "      <td>1</td>\n",
              "      <td>10000-24999</td>\n",
              "      <td>N</td>\n",
              "      <td>6692</td>\n",
              "      <td>1</td>\n",
              "    </tr>\n",
              "    <tr>\n",
              "      <th>4</th>\n",
              "      <td>10556103</td>\n",
              "      <td>GENETIC RESEARCH INSTITUTE OF THE DESERT</td>\n",
              "      <td>T3</td>\n",
              "      <td>Independent</td>\n",
              "      <td>C1000</td>\n",
              "      <td>Heathcare</td>\n",
              "      <td>Trust</td>\n",
              "      <td>1</td>\n",
              "      <td>100000-499999</td>\n",
              "      <td>N</td>\n",
              "      <td>142590</td>\n",
              "      <td>1</td>\n",
              "    </tr>\n",
              "  </tbody>\n",
              "</table>\n",
              "</div>\n",
              "    <div class=\"colab-df-buttons\">\n",
              "\n",
              "  <div class=\"colab-df-container\">\n",
              "    <button class=\"colab-df-convert\" onclick=\"convertToInteractive('df-ba23c498-bc11-4bec-aed9-2c209799cd33')\"\n",
              "            title=\"Convert this dataframe to an interactive table.\"\n",
              "            style=\"display:none;\">\n",
              "\n",
              "  <svg xmlns=\"http://www.w3.org/2000/svg\" height=\"24px\" viewBox=\"0 -960 960 960\">\n",
              "    <path d=\"M120-120v-720h720v720H120Zm60-500h600v-160H180v160Zm220 220h160v-160H400v160Zm0 220h160v-160H400v160ZM180-400h160v-160H180v160Zm440 0h160v-160H620v160ZM180-180h160v-160H180v160Zm440 0h160v-160H620v160Z\"/>\n",
              "  </svg>\n",
              "    </button>\n",
              "\n",
              "  <style>\n",
              "    .colab-df-container {\n",
              "      display:flex;\n",
              "      gap: 12px;\n",
              "    }\n",
              "\n",
              "    .colab-df-convert {\n",
              "      background-color: #E8F0FE;\n",
              "      border: none;\n",
              "      border-radius: 50%;\n",
              "      cursor: pointer;\n",
              "      display: none;\n",
              "      fill: #1967D2;\n",
              "      height: 32px;\n",
              "      padding: 0 0 0 0;\n",
              "      width: 32px;\n",
              "    }\n",
              "\n",
              "    .colab-df-convert:hover {\n",
              "      background-color: #E2EBFA;\n",
              "      box-shadow: 0px 1px 2px rgba(60, 64, 67, 0.3), 0px 1px 3px 1px rgba(60, 64, 67, 0.15);\n",
              "      fill: #174EA6;\n",
              "    }\n",
              "\n",
              "    .colab-df-buttons div {\n",
              "      margin-bottom: 4px;\n",
              "    }\n",
              "\n",
              "    [theme=dark] .colab-df-convert {\n",
              "      background-color: #3B4455;\n",
              "      fill: #D2E3FC;\n",
              "    }\n",
              "\n",
              "    [theme=dark] .colab-df-convert:hover {\n",
              "      background-color: #434B5C;\n",
              "      box-shadow: 0px 1px 3px 1px rgba(0, 0, 0, 0.15);\n",
              "      filter: drop-shadow(0px 1px 2px rgba(0, 0, 0, 0.3));\n",
              "      fill: #FFFFFF;\n",
              "    }\n",
              "  </style>\n",
              "\n",
              "    <script>\n",
              "      const buttonEl =\n",
              "        document.querySelector('#df-ba23c498-bc11-4bec-aed9-2c209799cd33 button.colab-df-convert');\n",
              "      buttonEl.style.display =\n",
              "        google.colab.kernel.accessAllowed ? 'block' : 'none';\n",
              "\n",
              "      async function convertToInteractive(key) {\n",
              "        const element = document.querySelector('#df-ba23c498-bc11-4bec-aed9-2c209799cd33');\n",
              "        const dataTable =\n",
              "          await google.colab.kernel.invokeFunction('convertToInteractive',\n",
              "                                                    [key], {});\n",
              "        if (!dataTable) return;\n",
              "\n",
              "        const docLinkHtml = 'Like what you see? Visit the ' +\n",
              "          '<a target=\"_blank\" href=https://colab.research.google.com/notebooks/data_table.ipynb>data table notebook</a>'\n",
              "          + ' to learn more about interactive tables.';\n",
              "        element.innerHTML = '';\n",
              "        dataTable['output_type'] = 'display_data';\n",
              "        await google.colab.output.renderOutput(dataTable, element);\n",
              "        const docLink = document.createElement('div');\n",
              "        docLink.innerHTML = docLinkHtml;\n",
              "        element.appendChild(docLink);\n",
              "      }\n",
              "    </script>\n",
              "  </div>\n",
              "\n",
              "\n",
              "<div id=\"df-72f168ab-fd39-4480-8543-0de8523ff480\">\n",
              "  <button class=\"colab-df-quickchart\" onclick=\"quickchart('df-72f168ab-fd39-4480-8543-0de8523ff480')\"\n",
              "            title=\"Suggest charts.\"\n",
              "            style=\"display:none;\">\n",
              "\n",
              "<svg xmlns=\"http://www.w3.org/2000/svg\" height=\"24px\"viewBox=\"0 0 24 24\"\n",
              "     width=\"24px\">\n",
              "    <g>\n",
              "        <path d=\"M19 3H5c-1.1 0-2 .9-2 2v14c0 1.1.9 2 2 2h14c1.1 0 2-.9 2-2V5c0-1.1-.9-2-2-2zM9 17H7v-7h2v7zm4 0h-2V7h2v10zm4 0h-2v-4h2v4z\"/>\n",
              "    </g>\n",
              "</svg>\n",
              "  </button>\n",
              "\n",
              "<style>\n",
              "  .colab-df-quickchart {\n",
              "      --bg-color: #E8F0FE;\n",
              "      --fill-color: #1967D2;\n",
              "      --hover-bg-color: #E2EBFA;\n",
              "      --hover-fill-color: #174EA6;\n",
              "      --disabled-fill-color: #AAA;\n",
              "      --disabled-bg-color: #DDD;\n",
              "  }\n",
              "\n",
              "  [theme=dark] .colab-df-quickchart {\n",
              "      --bg-color: #3B4455;\n",
              "      --fill-color: #D2E3FC;\n",
              "      --hover-bg-color: #434B5C;\n",
              "      --hover-fill-color: #FFFFFF;\n",
              "      --disabled-bg-color: #3B4455;\n",
              "      --disabled-fill-color: #666;\n",
              "  }\n",
              "\n",
              "  .colab-df-quickchart {\n",
              "    background-color: var(--bg-color);\n",
              "    border: none;\n",
              "    border-radius: 50%;\n",
              "    cursor: pointer;\n",
              "    display: none;\n",
              "    fill: var(--fill-color);\n",
              "    height: 32px;\n",
              "    padding: 0;\n",
              "    width: 32px;\n",
              "  }\n",
              "\n",
              "  .colab-df-quickchart:hover {\n",
              "    background-color: var(--hover-bg-color);\n",
              "    box-shadow: 0 1px 2px rgba(60, 64, 67, 0.3), 0 1px 3px 1px rgba(60, 64, 67, 0.15);\n",
              "    fill: var(--button-hover-fill-color);\n",
              "  }\n",
              "\n",
              "  .colab-df-quickchart-complete:disabled,\n",
              "  .colab-df-quickchart-complete:disabled:hover {\n",
              "    background-color: var(--disabled-bg-color);\n",
              "    fill: var(--disabled-fill-color);\n",
              "    box-shadow: none;\n",
              "  }\n",
              "\n",
              "  .colab-df-spinner {\n",
              "    border: 2px solid var(--fill-color);\n",
              "    border-color: transparent;\n",
              "    border-bottom-color: var(--fill-color);\n",
              "    animation:\n",
              "      spin 1s steps(1) infinite;\n",
              "  }\n",
              "\n",
              "  @keyframes spin {\n",
              "    0% {\n",
              "      border-color: transparent;\n",
              "      border-bottom-color: var(--fill-color);\n",
              "      border-left-color: var(--fill-color);\n",
              "    }\n",
              "    20% {\n",
              "      border-color: transparent;\n",
              "      border-left-color: var(--fill-color);\n",
              "      border-top-color: var(--fill-color);\n",
              "    }\n",
              "    30% {\n",
              "      border-color: transparent;\n",
              "      border-left-color: var(--fill-color);\n",
              "      border-top-color: var(--fill-color);\n",
              "      border-right-color: var(--fill-color);\n",
              "    }\n",
              "    40% {\n",
              "      border-color: transparent;\n",
              "      border-right-color: var(--fill-color);\n",
              "      border-top-color: var(--fill-color);\n",
              "    }\n",
              "    60% {\n",
              "      border-color: transparent;\n",
              "      border-right-color: var(--fill-color);\n",
              "    }\n",
              "    80% {\n",
              "      border-color: transparent;\n",
              "      border-right-color: var(--fill-color);\n",
              "      border-bottom-color: var(--fill-color);\n",
              "    }\n",
              "    90% {\n",
              "      border-color: transparent;\n",
              "      border-bottom-color: var(--fill-color);\n",
              "    }\n",
              "  }\n",
              "</style>\n",
              "\n",
              "  <script>\n",
              "    async function quickchart(key) {\n",
              "      const quickchartButtonEl =\n",
              "        document.querySelector('#' + key + ' button');\n",
              "      quickchartButtonEl.disabled = true;  // To prevent multiple clicks.\n",
              "      quickchartButtonEl.classList.add('colab-df-spinner');\n",
              "      try {\n",
              "        const charts = await google.colab.kernel.invokeFunction(\n",
              "            'suggestCharts', [key], {});\n",
              "      } catch (error) {\n",
              "        console.error('Error during call to suggestCharts:', error);\n",
              "      }\n",
              "      quickchartButtonEl.classList.remove('colab-df-spinner');\n",
              "      quickchartButtonEl.classList.add('colab-df-quickchart-complete');\n",
              "    }\n",
              "    (() => {\n",
              "      let quickchartButtonEl =\n",
              "        document.querySelector('#df-72f168ab-fd39-4480-8543-0de8523ff480 button');\n",
              "      quickchartButtonEl.style.display =\n",
              "        google.colab.kernel.accessAllowed ? 'block' : 'none';\n",
              "    })();\n",
              "  </script>\n",
              "</div>\n",
              "    </div>\n",
              "  </div>\n"
            ]
          },
          "metadata": {},
          "execution_count": 2
        }
      ],
      "source": [
        "# Import our dependencies\n",
        "from sklearn.model_selection import train_test_split\n",
        "from sklearn.preprocessing import StandardScaler\n",
        "import pandas as pd\n",
        "import tensorflow as tf\n",
        "\n",
        "#  Import and read the charity_data.csv.\n",
        "import pandas as pd\n",
        "application_df = pd.read_csv(\"https://static.bc-edx.com/data/dl-1-2/m21/lms/starter/charity_data.csv\")\n",
        "application_df.head()"
      ]
    },
    {
      "cell_type": "code",
      "execution_count": 3,
      "metadata": {
        "id": "x05vbUhEyPBb"
      },
      "outputs": [],
      "source": [
        "# Drop the non-beneficial ID columns, 'EIN' and 'NAME'.\n",
        "application_df = application_df.drop(['EIN', 'NAME'], axis=1)"
      ]
    },
    {
      "cell_type": "code",
      "execution_count": 4,
      "metadata": {
        "colab": {
          "base_uri": "https://localhost:8080/"
        },
        "id": "HuUShCLByPBc",
        "outputId": "5ca54797-e2eb-495f-a93a-98408650a3e9"
      },
      "outputs": [
        {
          "output_type": "stream",
          "name": "stdout",
          "text": [
            "APPLICATION_TYPE            17\n",
            "AFFILIATION                  6\n",
            "CLASSIFICATION              71\n",
            "USE_CASE                     5\n",
            "ORGANIZATION                 4\n",
            "STATUS                       2\n",
            "INCOME_AMT                   9\n",
            "SPECIAL_CONSIDERATIONS       2\n",
            "ASK_AMT                   8747\n",
            "IS_SUCCESSFUL                2\n",
            "dtype: int64\n"
          ]
        }
      ],
      "source": [
        "# Determine the number of unique values in each column.\n",
        "unique_value_counts = application_df.nunique()\n",
        "print(unique_value_counts)"
      ]
    },
    {
      "cell_type": "code",
      "execution_count": 5,
      "metadata": {
        "colab": {
          "base_uri": "https://localhost:8080/"
        },
        "id": "m8Qt4jATyPBd",
        "outputId": "ed0e61ad-7de2-4625-dece-4ac856d45d86"
      },
      "outputs": [
        {
          "output_type": "stream",
          "name": "stdout",
          "text": [
            "T3     27037\n",
            "T4      1542\n",
            "T6      1216\n",
            "T5      1173\n",
            "T19     1065\n",
            "T8       737\n",
            "T7       725\n",
            "T10      528\n",
            "T9       156\n",
            "T13       66\n",
            "T12       27\n",
            "T2        16\n",
            "T25        3\n",
            "T14        3\n",
            "T29        2\n",
            "T15        2\n",
            "T17        1\n",
            "Name: APPLICATION_TYPE, dtype: int64\n"
          ]
        }
      ],
      "source": [
        "# Look at APPLICATION_TYPE value counts for binning\n",
        "application_type_counts = application_df['APPLICATION_TYPE'].value_counts()\n",
        "print(application_type_counts)"
      ]
    },
    {
      "cell_type": "code",
      "execution_count": 6,
      "metadata": {
        "colab": {
          "base_uri": "https://localhost:8080/"
        },
        "id": "tO5ZnhgAyPBe",
        "outputId": "815ab83e-6ea1-4397-eade-7a7bd39c9916"
      },
      "outputs": [
        {
          "output_type": "execute_result",
          "data": {
            "text/plain": [
              "T3       27037\n",
              "T4        1542\n",
              "T6        1216\n",
              "T5        1173\n",
              "T19       1065\n",
              "T8         737\n",
              "T7         725\n",
              "T10        528\n",
              "Other      276\n",
              "Name: APPLICATION_TYPE, dtype: int64"
            ]
          },
          "metadata": {},
          "execution_count": 6
        }
      ],
      "source": [
        "# Choose a cutoff value and create a list of application types to be replaced\n",
        "# use the variable name `application_types_to_replace`\n",
        "cutoff_value = 500\n",
        "application_types_to_replace = list(application_type_counts[application_type_counts < cutoff_value].index)\n",
        "\n",
        "# Replace in dataframe\n",
        "for app in application_types_to_replace:\n",
        "    application_df['APPLICATION_TYPE'] = application_df['APPLICATION_TYPE'].replace(app,\"Other\")\n",
        "\n",
        "# Check to make sure binning was successful\n",
        "application_df['APPLICATION_TYPE'].value_counts()"
      ]
    },
    {
      "cell_type": "code",
      "execution_count": 7,
      "metadata": {
        "colab": {
          "base_uri": "https://localhost:8080/"
        },
        "id": "HJOZ60gtyPBf",
        "outputId": "bea59569-a4c1-4789-d3a1-989d485a30af"
      },
      "outputs": [
        {
          "output_type": "stream",
          "name": "stdout",
          "text": [
            "C1000    17326\n",
            "C2000     6074\n",
            "C1200     4837\n",
            "C3000     1918\n",
            "C2100     1883\n",
            "         ...  \n",
            "C4120        1\n",
            "C8210        1\n",
            "C2561        1\n",
            "C4500        1\n",
            "C2150        1\n",
            "Name: CLASSIFICATION, Length: 71, dtype: int64\n"
          ]
        }
      ],
      "source": [
        "# Look at CLASSIFICATION value counts for binning\n",
        "classification_counts = application_df['CLASSIFICATION'].value_counts()\n",
        "print(classification_counts)"
      ]
    },
    {
      "cell_type": "code",
      "execution_count": 8,
      "metadata": {
        "colab": {
          "base_uri": "https://localhost:8080/"
        },
        "id": "gyMqrbBryPBg",
        "outputId": "5e2515ed-d6c6-4ffa-de12-3f89bb1dd885"
      },
      "outputs": [
        {
          "output_type": "stream",
          "name": "stdout",
          "text": [
            "C1000    17326\n",
            "C2000     6074\n",
            "C1200     4837\n",
            "C3000     1918\n",
            "C2100     1883\n",
            "C7000      777\n",
            "C1700      287\n",
            "C4000      194\n",
            "C5000      116\n",
            "C1270      114\n",
            "C2700      104\n",
            "C2800       95\n",
            "C7100       75\n",
            "C1300       58\n",
            "C1280       50\n",
            "C1230       36\n",
            "C1400       34\n",
            "C7200       32\n",
            "C2300       32\n",
            "C1240       30\n",
            "C8000       20\n",
            "C7120       18\n",
            "C1500       16\n",
            "C1800       15\n",
            "C6000       15\n",
            "C1250       14\n",
            "C8200       11\n",
            "C1238       10\n",
            "C1278       10\n",
            "C1235        9\n",
            "C1237        9\n",
            "C7210        7\n",
            "C2400        6\n",
            "C1720        6\n",
            "C4100        6\n",
            "C1257        5\n",
            "C1600        5\n",
            "C1260        3\n",
            "C2710        3\n",
            "C0           3\n",
            "C3200        2\n",
            "C1234        2\n",
            "C1246        2\n",
            "C1267        2\n",
            "C1256        2\n",
            "Name: CLASSIFICATION, dtype: int64\n"
          ]
        }
      ],
      "source": [
        "# You may find it helpful to look at CLASSIFICATION value counts >1\n",
        "classification_counts = application_df['CLASSIFICATION'].value_counts()\n",
        "classification_counts_gt1 = classification_counts[classification_counts > 1]\n",
        "\n",
        "print(classification_counts_gt1)"
      ]
    },
    {
      "cell_type": "code",
      "execution_count": 9,
      "metadata": {
        "colab": {
          "base_uri": "https://localhost:8080/"
        },
        "id": "0wJrMIOmyPBi",
        "outputId": "f8e0ebf1-fb3f-4409-d381-3cceda7256a0"
      },
      "outputs": [
        {
          "output_type": "execute_result",
          "data": {
            "text/plain": [
              "C1000    17326\n",
              "C2000     6074\n",
              "C1200     4837\n",
              "C3000     1918\n",
              "C2100     1883\n",
              "C7000      777\n",
              "Other      669\n",
              "C1700      287\n",
              "C4000      194\n",
              "C5000      116\n",
              "C1270      114\n",
              "C2700      104\n",
              "Name: CLASSIFICATION, dtype: int64"
            ]
          },
          "metadata": {},
          "execution_count": 9
        }
      ],
      "source": [
        "# Choose a cutoff value and create a list of classifications to be replaced\n",
        "# use the variable name `classifications_to_replace`\n",
        "classification_counts = application_df['CLASSIFICATION'].value_counts()\n",
        "cutoff_value = 100\n",
        "classifications_to_replace = list(classification_counts[classification_counts < cutoff_value].index)\n",
        "\n",
        "\n",
        "# Replace in dataframe\n",
        "for cls in classifications_to_replace:\n",
        "    application_df['CLASSIFICATION'] = application_df['CLASSIFICATION'].replace(cls,\"Other\")\n",
        "\n",
        "# Check to make sure binning was successful\n",
        "application_df['CLASSIFICATION'].value_counts()"
      ]
    },
    {
      "cell_type": "code",
      "execution_count": 21,
      "metadata": {
        "colab": {
          "base_uri": "https://localhost:8080/"
        },
        "id": "NtbSKiu4yPBk",
        "outputId": "614723ca-fd39-4e34-d000-665e48b6ad53"
      },
      "outputs": [
        {
          "output_type": "stream",
          "name": "stdout",
          "text": [
            "   STATUS  ASK_AMT  IS_SUCCESSFUL  APPLICATION_TYPE_Other  \\\n",
            "0       1     5000              1                       0   \n",
            "1       1   108590              1                       0   \n",
            "2       1     5000              0                       0   \n",
            "3       1     6692              1                       0   \n",
            "4       1   142590              1                       0   \n",
            "\n",
            "   APPLICATION_TYPE_T10  APPLICATION_TYPE_T19  APPLICATION_TYPE_T3  \\\n",
            "0                     1                     0                    0   \n",
            "1                     0                     0                    1   \n",
            "2                     0                     0                    0   \n",
            "3                     0                     0                    1   \n",
            "4                     0                     0                    1   \n",
            "\n",
            "   APPLICATION_TYPE_T4  APPLICATION_TYPE_T5  APPLICATION_TYPE_T6  ...  \\\n",
            "0                    0                    0                    0  ...   \n",
            "1                    0                    0                    0  ...   \n",
            "2                    0                    1                    0  ...   \n",
            "3                    0                    0                    0  ...   \n",
            "4                    0                    0                    0  ...   \n",
            "\n",
            "   INCOME_AMT_1-9999  INCOME_AMT_10000-24999  INCOME_AMT_100000-499999  \\\n",
            "0                  0                       0                         0   \n",
            "1                  1                       0                         0   \n",
            "2                  0                       0                         0   \n",
            "3                  0                       1                         0   \n",
            "4                  0                       0                         1   \n",
            "\n",
            "   INCOME_AMT_10M-50M  INCOME_AMT_1M-5M  INCOME_AMT_25000-99999  \\\n",
            "0                   0                 0                       0   \n",
            "1                   0                 0                       0   \n",
            "2                   0                 0                       0   \n",
            "3                   0                 0                       0   \n",
            "4                   0                 0                       0   \n",
            "\n",
            "   INCOME_AMT_50M+  INCOME_AMT_5M-10M  SPECIAL_CONSIDERATIONS_N  \\\n",
            "0                0                  0                         1   \n",
            "1                0                  0                         1   \n",
            "2                0                  0                         1   \n",
            "3                0                  0                         1   \n",
            "4                0                  0                         1   \n",
            "\n",
            "   SPECIAL_CONSIDERATIONS_Y  \n",
            "0                         0  \n",
            "1                         0  \n",
            "2                         0  \n",
            "3                         0  \n",
            "4                         0  \n",
            "\n",
            "[5 rows x 50 columns]\n"
          ]
        }
      ],
      "source": [
        "# Convert categorical data to numeric with `pd.get_dummies`\n",
        "application_df_encoded = pd.get_dummies(application_df)\n",
        "\n",
        "# Display the first few rows of the encoded DataFrame\n",
        "print(application_df_encoded.head())\n"
      ]
    },
    {
      "cell_type": "code",
      "execution_count": 23,
      "metadata": {
        "colab": {
          "base_uri": "https://localhost:8080/"
        },
        "id": "d7Hs-Ai0yPBk",
        "outputId": "c171bab0-357f-4338-ed91-bf2644fb7e46"
      },
      "outputs": [
        {
          "output_type": "stream",
          "name": "stdout",
          "text": [
            "X_train shape: (27439, 49)\n",
            "X_test shape: (6860, 49)\n",
            "y_train shape: (27439,)\n",
            "y_test shape: (6860,)\n"
          ]
        }
      ],
      "source": [
        "# Split our preprocessed data into our features and target arrays\n",
        "y = application_df_encoded['IS_SUCCESSFUL']\n",
        "X = application_df_encoded.drop(columns=['IS_SUCCESSFUL'])\n",
        "\n",
        "# Split the preprocessed data into a training and testing dataset\n",
        "X_train, X_test, y_train, y_test = train_test_split(X, y, test_size=0.2, random_state=42)\n",
        "\n",
        "print(\"X_train shape:\", X_train.shape)\n",
        "print(\"X_test shape:\", X_test.shape)\n",
        "print(\"y_train shape:\", y_train.shape)\n",
        "print(\"y_test shape:\", y_test.shape)"
      ]
    },
    {
      "cell_type": "code",
      "execution_count": 24,
      "metadata": {
        "id": "9dsI3V9eyPBl"
      },
      "outputs": [],
      "source": [
        "# Create a StandardScaler instances\n",
        "scaler = StandardScaler()\n",
        "\n",
        "# Fit the StandardScaler\n",
        "X_scaler = scaler.fit(X_train)\n",
        "\n",
        "# Scale the data\n",
        "X_train_scaled = X_scaler.transform(X_train)\n",
        "X_test_scaled = X_scaler.transform(X_test)"
      ]
    },
    {
      "cell_type": "markdown",
      "metadata": {
        "id": "OF2HYhdmyPBl"
      },
      "source": [
        "## Compile, Train and Evaluate the Model"
      ]
    },
    {
      "cell_type": "code",
      "source": [
        "import tensorflow as tf\n",
        "from tensorflow.keras.models import Sequential, load_model\n",
        "from tensorflow.keras.layers import Dense"
      ],
      "metadata": {
        "id": "tfnqrijjsW7v"
      },
      "execution_count": 42,
      "outputs": []
    },
    {
      "cell_type": "code",
      "execution_count": 27,
      "metadata": {
        "colab": {
          "base_uri": "https://localhost:8080/"
        },
        "id": "e4-UFRD-yPBm",
        "outputId": "43d510fc-acf6-458b-88ff-ffd1b798ad25"
      },
      "outputs": [
        {
          "output_type": "stream",
          "name": "stdout",
          "text": [
            "Model: \"sequential_1\"\n",
            "_________________________________________________________________\n",
            " Layer (type)                Output Shape              Param #   \n",
            "=================================================================\n",
            " dense (Dense)               (None, 8)                 400       \n",
            "                                                                 \n",
            " dense_1 (Dense)             (None, 5)                 45        \n",
            "                                                                 \n",
            " dense_2 (Dense)             (None, 1)                 6         \n",
            "                                                                 \n",
            "=================================================================\n",
            "Total params: 451 (1.76 KB)\n",
            "Trainable params: 451 (1.76 KB)\n",
            "Non-trainable params: 0 (0.00 Byte)\n",
            "_________________________________________________________________\n"
          ]
        }
      ],
      "source": [
        "# Define the model - deep neural net, i.e., the number of input features and hidden nodes for each layer.\n",
        "input_features = len(X_train_scaled[0])\n",
        "\n",
        "nn = tf.keras.models.Sequential()\n",
        "\n",
        "# First hidden layer\n",
        "nn.add(Dense(units=8, activation='relu', input_dim=input_features))\n",
        "\n",
        "\n",
        "# Second hidden layer\n",
        "nn.add(Dense(units=5, activation='relu'))\n",
        "\n",
        "# Output layer\n",
        "nn.add(Dense(units=1, activation='sigmoid'))\n",
        "\n",
        "\n",
        "# Check the structure of the model\n",
        "nn.summary()"
      ]
    },
    {
      "cell_type": "code",
      "execution_count": 28,
      "metadata": {
        "id": "AfEE7xtjyPBm"
      },
      "outputs": [],
      "source": [
        "# Compile the model\n",
        "\n",
        "nn.compile(loss='binary_crossentropy', optimizer='adam', metrics=['accuracy'])\n"
      ]
    },
    {
      "cell_type": "code",
      "execution_count": 29,
      "metadata": {
        "colab": {
          "base_uri": "https://localhost:8080/"
        },
        "id": "quMMcjo5yPBn",
        "outputId": "fbf7a7da-54c5-4cb0-ba53-00de341f7694"
      },
      "outputs": [
        {
          "output_type": "stream",
          "name": "stdout",
          "text": [
            "Epoch 1/50\n",
            "858/858 [==============================] - 4s 3ms/step - loss: 0.6098 - accuracy: 0.6740 - val_loss: 0.5751 - val_accuracy: 0.7070\n",
            "Epoch 2/50\n",
            "858/858 [==============================] - 2s 3ms/step - loss: 0.5650 - accuracy: 0.7192 - val_loss: 0.5655 - val_accuracy: 0.7197\n",
            "Epoch 3/50\n",
            "858/858 [==============================] - 3s 4ms/step - loss: 0.5577 - accuracy: 0.7251 - val_loss: 0.5598 - val_accuracy: 0.7222\n",
            "Epoch 4/50\n",
            "858/858 [==============================] - 2s 2ms/step - loss: 0.5540 - accuracy: 0.7280 - val_loss: 0.5590 - val_accuracy: 0.7254\n",
            "Epoch 5/50\n",
            "858/858 [==============================] - 2s 2ms/step - loss: 0.5525 - accuracy: 0.7294 - val_loss: 0.5584 - val_accuracy: 0.7277\n",
            "Epoch 6/50\n",
            "858/858 [==============================] - 2s 2ms/step - loss: 0.5511 - accuracy: 0.7293 - val_loss: 0.5586 - val_accuracy: 0.7277\n",
            "Epoch 7/50\n",
            "858/858 [==============================] - 2s 2ms/step - loss: 0.5503 - accuracy: 0.7307 - val_loss: 0.5595 - val_accuracy: 0.7299\n",
            "Epoch 8/50\n",
            "858/858 [==============================] - 3s 4ms/step - loss: 0.5499 - accuracy: 0.7305 - val_loss: 0.5584 - val_accuracy: 0.7224\n",
            "Epoch 9/50\n",
            "858/858 [==============================] - 2s 2ms/step - loss: 0.5491 - accuracy: 0.7293 - val_loss: 0.5574 - val_accuracy: 0.7283\n",
            "Epoch 10/50\n",
            "858/858 [==============================] - 2s 2ms/step - loss: 0.5485 - accuracy: 0.7309 - val_loss: 0.5566 - val_accuracy: 0.7238\n",
            "Epoch 11/50\n",
            "858/858 [==============================] - 2s 2ms/step - loss: 0.5483 - accuracy: 0.7313 - val_loss: 0.5560 - val_accuracy: 0.7245\n",
            "Epoch 12/50\n",
            "858/858 [==============================] - 2s 2ms/step - loss: 0.5478 - accuracy: 0.7323 - val_loss: 0.5558 - val_accuracy: 0.7242\n",
            "Epoch 13/50\n",
            "858/858 [==============================] - 2s 2ms/step - loss: 0.5475 - accuracy: 0.7316 - val_loss: 0.5566 - val_accuracy: 0.7242\n",
            "Epoch 14/50\n",
            "858/858 [==============================] - 3s 4ms/step - loss: 0.5471 - accuracy: 0.7317 - val_loss: 0.5565 - val_accuracy: 0.7297\n",
            "Epoch 15/50\n",
            "858/858 [==============================] - 2s 2ms/step - loss: 0.5468 - accuracy: 0.7315 - val_loss: 0.5560 - val_accuracy: 0.7251\n",
            "Epoch 16/50\n",
            "858/858 [==============================] - 2s 2ms/step - loss: 0.5468 - accuracy: 0.7319 - val_loss: 0.5555 - val_accuracy: 0.7293\n",
            "Epoch 17/50\n",
            "858/858 [==============================] - 2s 2ms/step - loss: 0.5462 - accuracy: 0.7319 - val_loss: 0.5563 - val_accuracy: 0.7249\n",
            "Epoch 18/50\n",
            "858/858 [==============================] - 2s 2ms/step - loss: 0.5463 - accuracy: 0.7322 - val_loss: 0.5561 - val_accuracy: 0.7239\n",
            "Epoch 19/50\n",
            "858/858 [==============================] - 2s 2ms/step - loss: 0.5461 - accuracy: 0.7319 - val_loss: 0.5570 - val_accuracy: 0.7300\n",
            "Epoch 20/50\n",
            "858/858 [==============================] - 3s 3ms/step - loss: 0.5460 - accuracy: 0.7323 - val_loss: 0.5544 - val_accuracy: 0.7293\n",
            "Epoch 21/50\n",
            "858/858 [==============================] - 2s 2ms/step - loss: 0.5459 - accuracy: 0.7322 - val_loss: 0.5550 - val_accuracy: 0.7249\n",
            "Epoch 22/50\n",
            "858/858 [==============================] - 2s 2ms/step - loss: 0.5456 - accuracy: 0.7320 - val_loss: 0.5559 - val_accuracy: 0.7257\n",
            "Epoch 23/50\n",
            "858/858 [==============================] - 2s 2ms/step - loss: 0.5454 - accuracy: 0.7328 - val_loss: 0.5552 - val_accuracy: 0.7262\n",
            "Epoch 24/50\n",
            "858/858 [==============================] - 2s 2ms/step - loss: 0.5454 - accuracy: 0.7330 - val_loss: 0.5552 - val_accuracy: 0.7277\n",
            "Epoch 25/50\n",
            "858/858 [==============================] - 3s 3ms/step - loss: 0.5454 - accuracy: 0.7330 - val_loss: 0.5568 - val_accuracy: 0.7268\n",
            "Epoch 26/50\n",
            "858/858 [==============================] - 3s 3ms/step - loss: 0.5452 - accuracy: 0.7320 - val_loss: 0.5566 - val_accuracy: 0.7249\n",
            "Epoch 27/50\n",
            "858/858 [==============================] - 2s 2ms/step - loss: 0.5451 - accuracy: 0.7334 - val_loss: 0.5568 - val_accuracy: 0.7252\n",
            "Epoch 28/50\n",
            "858/858 [==============================] - 2s 2ms/step - loss: 0.5451 - accuracy: 0.7324 - val_loss: 0.5556 - val_accuracy: 0.7232\n",
            "Epoch 29/50\n",
            "858/858 [==============================] - 2s 2ms/step - loss: 0.5448 - accuracy: 0.7330 - val_loss: 0.5564 - val_accuracy: 0.7319\n",
            "Epoch 30/50\n",
            "858/858 [==============================] - 2s 2ms/step - loss: 0.5447 - accuracy: 0.7330 - val_loss: 0.5554 - val_accuracy: 0.7292\n",
            "Epoch 31/50\n",
            "858/858 [==============================] - 3s 4ms/step - loss: 0.5447 - accuracy: 0.7322 - val_loss: 0.5557 - val_accuracy: 0.7264\n",
            "Epoch 32/50\n",
            "858/858 [==============================] - 2s 3ms/step - loss: 0.5442 - accuracy: 0.7333 - val_loss: 0.5559 - val_accuracy: 0.7268\n",
            "Epoch 33/50\n",
            "858/858 [==============================] - 2s 2ms/step - loss: 0.5444 - accuracy: 0.7334 - val_loss: 0.5553 - val_accuracy: 0.7283\n",
            "Epoch 34/50\n",
            "858/858 [==============================] - 2s 2ms/step - loss: 0.5442 - accuracy: 0.7340 - val_loss: 0.5565 - val_accuracy: 0.7273\n",
            "Epoch 35/50\n",
            "858/858 [==============================] - 2s 2ms/step - loss: 0.5440 - accuracy: 0.7333 - val_loss: 0.5566 - val_accuracy: 0.7249\n",
            "Epoch 36/50\n",
            "858/858 [==============================] - 2s 3ms/step - loss: 0.5439 - accuracy: 0.7330 - val_loss: 0.5560 - val_accuracy: 0.7274\n",
            "Epoch 37/50\n",
            "858/858 [==============================] - 3s 3ms/step - loss: 0.5441 - accuracy: 0.7335 - val_loss: 0.5552 - val_accuracy: 0.7284\n",
            "Epoch 38/50\n",
            "858/858 [==============================] - 2s 2ms/step - loss: 0.5439 - accuracy: 0.7337 - val_loss: 0.5561 - val_accuracy: 0.7232\n",
            "Epoch 39/50\n",
            "858/858 [==============================] - 2s 2ms/step - loss: 0.5439 - accuracy: 0.7334 - val_loss: 0.5559 - val_accuracy: 0.7277\n",
            "Epoch 40/50\n",
            "858/858 [==============================] - 2s 2ms/step - loss: 0.5438 - accuracy: 0.7339 - val_loss: 0.5556 - val_accuracy: 0.7274\n",
            "Epoch 41/50\n",
            "858/858 [==============================] - 2s 2ms/step - loss: 0.5434 - accuracy: 0.7334 - val_loss: 0.5552 - val_accuracy: 0.7281\n",
            "Epoch 42/50\n",
            "858/858 [==============================] - 3s 3ms/step - loss: 0.5436 - accuracy: 0.7340 - val_loss: 0.5561 - val_accuracy: 0.7284\n",
            "Epoch 43/50\n",
            "858/858 [==============================] - 2s 3ms/step - loss: 0.5438 - accuracy: 0.7338 - val_loss: 0.5559 - val_accuracy: 0.7261\n",
            "Epoch 44/50\n",
            "858/858 [==============================] - 2s 2ms/step - loss: 0.5435 - accuracy: 0.7326 - val_loss: 0.5555 - val_accuracy: 0.7278\n",
            "Epoch 45/50\n",
            "858/858 [==============================] - 2s 2ms/step - loss: 0.5432 - accuracy: 0.7334 - val_loss: 0.5554 - val_accuracy: 0.7297\n",
            "Epoch 46/50\n",
            "858/858 [==============================] - 2s 2ms/step - loss: 0.5433 - accuracy: 0.7338 - val_loss: 0.5555 - val_accuracy: 0.7276\n",
            "Epoch 47/50\n",
            "858/858 [==============================] - 2s 2ms/step - loss: 0.5432 - accuracy: 0.7345 - val_loss: 0.5561 - val_accuracy: 0.7276\n",
            "Epoch 48/50\n",
            "858/858 [==============================] - 3s 4ms/step - loss: 0.5432 - accuracy: 0.7338 - val_loss: 0.5554 - val_accuracy: 0.7274\n",
            "Epoch 49/50\n",
            "858/858 [==============================] - 2s 2ms/step - loss: 0.5430 - accuracy: 0.7329 - val_loss: 0.5565 - val_accuracy: 0.7252\n",
            "Epoch 50/50\n",
            "858/858 [==============================] - 2s 3ms/step - loss: 0.5431 - accuracy: 0.7340 - val_loss: 0.5564 - val_accuracy: 0.7277\n"
          ]
        }
      ],
      "source": [
        "# Train the model\n",
        "\n",
        "history = nn.fit(X_train_scaled, y_train, epochs=50, verbose=1, validation_data=(X_test_scaled, y_test))\n"
      ]
    },
    {
      "cell_type": "code",
      "execution_count": 30,
      "metadata": {
        "colab": {
          "base_uri": "https://localhost:8080/"
        },
        "id": "VWWs8LtQyPBo",
        "outputId": "f492f5a8-a80a-4ead-cae5-bd4ae766b069"
      },
      "outputs": [
        {
          "output_type": "stream",
          "name": "stdout",
          "text": [
            "215/215 - 1s - loss: 0.5564 - accuracy: 0.7277 - 1s/epoch - 6ms/step\n",
            "Loss: 0.5563837289810181, Accuracy: 0.7276967763900757\n"
          ]
        }
      ],
      "source": [
        "# Evaluate the model using the test data\n",
        "model_loss, model_accuracy = nn.evaluate(X_test_scaled,y_test,verbose=2)\n",
        "print(f\"Loss: {model_loss}, Accuracy: {model_accuracy}\")"
      ]
    },
    {
      "cell_type": "code",
      "execution_count": 41,
      "metadata": {
        "colab": {
          "base_uri": "https://localhost:8080/"
        },
        "id": "mCmJPei2yPBo",
        "outputId": "732d3bd2-a48d-45bc-f1eb-3e83b74bedd9"
      },
      "outputs": [
        {
          "output_type": "stream",
          "name": "stderr",
          "text": [
            "/usr/local/lib/python3.10/dist-packages/keras/src/engine/training.py:3000: UserWarning: You are saving your model as an HDF5 file via `model.save()`. This file format is considered legacy. We recommend using instead the native Keras format, e.g. `model.save('my_model.keras')`.\n",
            "  saving_api.save_model(\n"
          ]
        }
      ],
      "source": [
        "# Export our model to HDF5 file\n",
        "model_filename = 'AlphabetSoupCharity.h5'\n",
        "\n",
        "\n",
        "# Save the model to the specified file path\n",
        "nn.save(model_filename)\n"
      ]
    },
    {
      "cell_type": "code",
      "source": [
        "model = load_model('AlphabetSoupCharity.h5')"
      ],
      "metadata": {
        "id": "UaHL5tz6SZ_3"
      },
      "execution_count": 43,
      "outputs": []
    }
  ],
  "metadata": {
    "kernelspec": {
      "display_name": "Python 3",
      "language": "python",
      "name": "python3"
    },
    "language_info": {
      "codemirror_mode": {
        "name": "ipython",
        "version": 3
      },
      "file_extension": ".py",
      "mimetype": "text/x-python",
      "name": "python",
      "nbconvert_exporter": "python",
      "pygments_lexer": "ipython3",
      "version": "3.-1.-1"
    },
    "vscode": {
      "interpreter": {
        "hash": "31f2aee4e71d21fbe5cf8b01ff0e069b9275f58929596ceb00d14d90e3e16cd6"
      }
    },
    "colab": {
      "provenance": []
    }
  },
  "nbformat": 4,
  "nbformat_minor": 0
}